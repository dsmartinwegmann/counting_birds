{
  "metadata": {
    "kernelspec": {
      "name": "python",
      "display_name": "Python (Pyodide)",
      "language": "python"
    },
    "language_info": {
      "codemirror_mode": {
        "name": "python",
        "version": 3
      },
      "file_extension": ".py",
      "mimetype": "text/x-python",
      "name": "python",
      "nbconvert_exporter": "python",
      "pygments_lexer": "ipython3",
      "version": "3.8"
    }
  },
  "nbformat_minor": 5,
  "nbformat": 4,
  "cells": [
    {
      "id": "dc59c986-a448-483a-b603-8438dae5a321",
      "cell_type": "markdown",
      "source": "# Contact Information",
      "metadata": {}
    },
    {
      "id": "b8a0fa11-70ad-4d3c-8179-32009890ff89",
      "cell_type": "markdown",
      "source": "Name: Martin Wegmann\n\nEmail: martin.wegmann@unibe.ch\n\nWebsite: www.google.ch\n\nDate: ",
      "metadata": {}
    },
    {
      "id": "06849e35-4094-4bec-9b59-b0571b22c353",
      "cell_type": "markdown",
      "source": "# Analysis Start",
      "metadata": {}
    },
    {
      "id": "500cf2a1-970b-4b7d-aae9-d68cd7878a3d",
      "cell_type": "markdown",
      "source": "This is how to compute temperature",
      "metadata": {}
    },
    {
      "id": "f6617e54-e3f5-4f5f-be63-1cb4cb8f2b2b",
      "cell_type": "code",
      "source": "temperature=254*34",
      "metadata": {
        "trusted": true
      },
      "outputs": [],
      "execution_count": 1
    },
    {
      "id": "ca39b70f-0ff9-4986-a51f-b146870e9006",
      "cell_type": "code",
      "source": "temperature",
      "metadata": {
        "trusted": true
      },
      "outputs": [
        {
          "execution_count": 2,
          "output_type": "execute_result",
          "data": {
            "text/plain": "8636"
          },
          "metadata": {}
        }
      ],
      "execution_count": 2
    },
    {
      "id": "f2274591-7c46-4e53-86fd-acbb948bfb19",
      "cell_type": "code",
      "source": "",
      "metadata": {
        "trusted": true
      },
      "outputs": [],
      "execution_count": null
    }
  ]
}